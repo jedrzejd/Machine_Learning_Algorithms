{
 "cells": [
  {
   "cell_type": "code",
   "execution_count": 162,
   "metadata": {
    "ExecuteTime": {
     "end_time": "2021-06-03T11:14:02.611621Z",
     "start_time": "2021-06-03T11:14:02.608337Z"
    }
   },
   "outputs": [],
   "source": [
    "import numpy as np\n",
    "import pandas as pd\n",
    "\n",
    "#Bibloteki do wizualizacji\n",
    "import matplotlib.pyplot as plt\n",
    "import seaborn as sns\n",
    "import matplotlib.animation as animation\n",
    "\n",
    "# Model regresji liniowej z bibloteki scikit-learn\n",
    "from sklearn.linear_model import LinearRegression\n",
    "from sklearn.preprocessing import PolynomialFeatures"
   ]
  },
  {
   "cell_type": "code",
   "execution_count": 163,
   "metadata": {
    "ExecuteTime": {
     "end_time": "2021-06-03T11:14:02.931113Z",
     "start_time": "2021-06-03T11:14:02.927643Z"
    }
   },
   "outputs": [],
   "source": [
    "def get_X():\n",
    "    tablica = np.random.rand(100, 1)\n",
    "    \n",
    "    return 6 * tablica - 3\n",
    "\n",
    "\n",
    "def get_y(X):\n",
    "    tablica = np.random.randn(100, 1)\n",
    "    \n",
    "    return 0.5 * X ** 2 + X + 2 + tablica\n"
   ]
  },
  {
   "cell_type": "code",
   "execution_count": 164,
   "metadata": {
    "ExecuteTime": {
     "end_time": "2021-06-03T11:14:03.133875Z",
     "start_time": "2021-06-03T11:14:03.130013Z"
    }
   },
   "outputs": [],
   "source": [
    "X = get_X()\n",
    "X = np.array(sorted(X))\n",
    "y = get_y(X)"
   ]
  },
  {
   "cell_type": "code",
   "execution_count": 165,
   "metadata": {
    "ExecuteTime": {
     "end_time": "2021-06-03T11:14:03.457116Z",
     "start_time": "2021-06-03T11:14:03.297744Z"
    }
   },
   "outputs": [
    {
     "data": {
      "image/png": "[encoded data removed]",
      "text/plain": [
       "<Figure size 576x360 with 1 Axes>"
      ]
     },
     "metadata": {
      "needs_background": "light"
     },
     "output_type": "display_data"
    }
   ],
   "source": [
    "plt.figure(figsize=(8, 5))\n",
    "plt.xlabel('x1')\n",
    "plt.ylabel('y')\n",
    "plt.plot(X, y, 'b.')\n",
    "plt.show()"
   ]
  },
  {
   "cell_type": "code",
   "execution_count": 166,
   "metadata": {
    "ExecuteTime": {
     "end_time": "2021-06-03T11:14:03.894763Z",
     "start_time": "2021-06-03T11:14:03.891721Z"
    }
   },
   "outputs": [],
   "source": [
    "poly = PolynomialFeatures(degree=2, include_bias=False)\n",
    "X_poly = poly.fit_transform(X)"
   ]
  },
  {
   "cell_type": "code",
   "execution_count": 167,
   "metadata": {
    "ExecuteTime": {
     "end_time": "2021-06-03T11:14:04.336422Z",
     "start_time": "2021-06-03T11:14:04.330807Z"
    }
   },
   "outputs": [
    {
     "data": {
      "text/plain": [
       "LinearRegression()"
      ]
     },
     "execution_count": 167,
     "metadata": {},
     "output_type": "execute_result"
    }
   ],
   "source": [
    "lin_reg = LinearRegression()\n",
    "lin_reg.fit(X_poly, y)"
   ]
  },
  {
   "cell_type": "code",
   "execution_count": 168,
   "metadata": {
    "ExecuteTime": {
     "end_time": "2021-06-03T11:14:05.258775Z",
     "start_time": "2021-06-03T11:14:05.254270Z"
    }
   },
   "outputs": [
    {
     "data": {
      "text/plain": [
       "(array([2.01836028]), array([[1.05669402, 0.49349469]]))"
      ]
     },
     "execution_count": 168,
     "metadata": {},
     "output_type": "execute_result"
    }
   ],
   "source": [
    "lin_reg.intercept_, lin_reg.coef_"
   ]
  },
  {
   "cell_type": "code",
   "execution_count": 169,
   "metadata": {
    "ExecuteTime": {
     "end_time": "2021-06-03T11:14:05.676980Z",
     "start_time": "2021-06-03T11:14:05.504373Z"
    }
   },
   "outputs": [
    {
     "data": {
      "image/png": "[encoded data removed]",
      "text/plain": [
       "<Figure size 576x360 with 1 Axes>"
      ]
     },
     "metadata": {
      "needs_background": "light"
     },
     "output_type": "display_data"
    }
   ],
   "source": [
    "lin_y = lin_reg.predict(X_poly)\n",
    "\n",
    "plt.figure(figsize=(8, 5))\n",
    "plt.xlabel('x1')\n",
    "plt.ylabel('y')\n",
    "plt.plot(X, lin_y, 'r-')\n",
    "plt.plot(X, y, 'b.')\n",
    "plt.title('Prosta regresji nałożona na nasze dane', size=16)\n",
    "plt.show()"
   ]
  }
 ],
 "metadata": {
  "hide_input": false,
  "kernelspec": {
   "display_name": "Python 3",
   "language": "python",
   "name": "python3"
  },
  "language_info": {
   "codemirror_mode": {
    "name": "ipython",
    "version": 3
   },
   "file_extension": ".py",
   "mimetype": "text/x-python",
   "name": "python",
   "nbconvert_exporter": "python",
   "pygments_lexer": "ipython3",
   "version": "3.7.2"
  },
  "toc": {
   "base_numbering": 1,
   "nav_menu": {},
   "number_sections": true,
   "sideBar": true,
   "skip_h1_title": false,
   "title_cell": "Table of Contents",
   "title_sidebar": "Contents",
   "toc_cell": false,
   "toc_position": {},
   "toc_section_display": true,
   "toc_window_display": false
  }
 },
 "nbformat": 4,
 "nbformat_minor": 4
}
