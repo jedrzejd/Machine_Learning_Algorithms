{
 "cells": [
  {
   "cell_type": "code",
   "execution_count": 12,
   "metadata": {
    "ExecuteTime": {
     "end_time": "2021-06-13T17:33:40.845202Z",
     "start_time": "2021-06-13T17:33:40.841350Z"
    }
   },
   "outputs": [],
   "source": [
    "import numpy as np\n",
    "import pandas as pd\n",
    "\n",
    "#Bibloteki do wizualizacji\n",
    "import matplotlib.pyplot as plt\n",
    "import seaborn as sns\n",
    "\n",
    "# Bibloteka scikit-learn\n",
    "from sklearn.linear_model import SGDRegressor\n",
    "from sklearn.metrics import mean_squared_error as mse\n",
    "from sklearn.model_selection import train_test_split\n",
    "from sklearn.preprocessing import PolynomialFeatures\n",
    "from sklearn.base import clone"
   ]
  },
  {
   "cell_type": "code",
   "execution_count": 7,
   "metadata": {
    "ExecuteTime": {
     "end_time": "2021-06-13T17:31:58.107616Z",
     "start_time": "2021-06-13T17:31:58.103568Z"
    }
   },
   "outputs": [],
   "source": [
    "def get_X():\n",
    "    tablica = np.random.rand(100, 1)\n",
    "    \n",
    "    return 6 * tablica - 3\n",
    "\n",
    "\n",
    "def get_y(X):\n",
    "    tablica = np.random.randn(100, 1)\n",
    "    \n",
    "    return 0.5 * X ** 2 + X + 2 + tablica"
   ]
  },
  {
   "cell_type": "code",
   "execution_count": 8,
   "metadata": {
    "ExecuteTime": {
     "end_time": "2021-06-13T17:32:03.069096Z",
     "start_time": "2021-06-13T17:32:03.064988Z"
    }
   },
   "outputs": [],
   "source": [
    "X = get_X()\n",
    "X = np.array(sorted(X))\n",
    "y = get_y(X)"
   ]
  },
  {
   "cell_type": "code",
   "execution_count": 9,
   "metadata": {
    "ExecuteTime": {
     "end_time": "2021-06-13T17:32:07.572309Z",
     "start_time": "2021-06-13T17:32:07.395745Z"
    }
   },
   "outputs": [
    {
     "data": {
      "image/png": "[encoded data removed]",
      "text/plain": [
       "<Figure size 576x360 with 1 Axes>"
      ]
     },
     "metadata": {
      "needs_background": "light"
     },
     "output_type": "display_data"
    }
   ],
   "source": [
    "plt.figure(figsize=(8, 5))\n",
    "plt.xlabel('x1')\n",
    "plt.ylabel('y')\n",
    "plt.plot(X, y, 'b.')\n",
    "plt.show()"
   ]
  },
  {
   "cell_type": "code",
   "execution_count": 13,
   "metadata": {
    "ExecuteTime": {
     "end_time": "2021-06-13T17:34:14.753308Z",
     "start_time": "2021-06-13T17:34:14.750061Z"
    }
   },
   "outputs": [],
   "source": [
    "poly = PolynomialFeatures(degree=2, include_bias=False)\n",
    "X_poly = poly.fit_transform(X)"
   ]
  },
  {
   "cell_type": "code",
   "execution_count": 14,
   "metadata": {
    "ExecuteTime": {
     "end_time": "2021-06-13T17:34:19.679645Z",
     "start_time": "2021-06-13T17:34:19.676081Z"
    }
   },
   "outputs": [],
   "source": [
    "X_train, X_test, y_train, y_test = train_test_split(X_poly, y, test_size=0.2, random_state=42)"
   ]
  },
  {
   "cell_type": "code",
   "execution_count": 39,
   "metadata": {
    "ExecuteTime": {
     "end_time": "2021-06-13T17:43:33.485408Z",
     "start_time": "2021-06-13T17:43:33.482226Z"
    }
   },
   "outputs": [],
   "source": [
    "sgd_reg = SGDRegressor(max_iter=1, warm_start=True, penalty=None, learning_rate='constant', eta0=0.0005, verbose=0)"
   ]
  },
  {
   "cell_type": "code",
   "execution_count": null,
   "metadata": {
    "ExecuteTime": {
     "end_time": "2021-06-13T17:43:39.196441Z",
     "start_time": "2021-06-13T17:43:38.400593Z"
    },
    "scrolled": true
   },
   "outputs": [],
   "source": [
    "minimalny_blad_valid = float('inf')\n",
    "najlepsza_epoka = None\n",
    "najlepsza_model = None\n",
    "\n",
    "for epoka in range(1000):\n",
    "    sgd_reg.fit(X_train, y_train.ravel())\n",
    "    y_pred = sgd_reg.predict(X_test)\n",
    "    test_error = mse(y_test, y_pred)\n",
    "    if test_error < minimalny_blad_valid:\n",
    "        minimalny_blad_valid = test_error\n",
    "        najlepsza_epoka = epoka\n",
    "        najlepsza_model = clone(sgd_reg)"
   ]
  },
  {
   "cell_type": "code",
   "execution_count": 42,
   "metadata": {
    "ExecuteTime": {
     "end_time": "2021-06-13T17:43:59.248587Z",
     "start_time": "2021-06-13T17:43:59.244140Z"
    }
   },
   "outputs": [
    {
     "data": {
      "text/plain": [
       "1.5234073941735704"
      ]
     },
     "execution_count": 42,
     "metadata": {},
     "output_type": "execute_result"
    }
   ],
   "source": [
    "minimalny_blad_valid"
   ]
  },
  {
   "cell_type": "code",
   "execution_count": null,
   "metadata": {},
   "outputs": [],
   "source": []
  }
 ],
 "metadata": {
  "hide_input": false,
  "kernelspec": {
   "display_name": "Python 3",
   "language": "python",
   "name": "python3"
  },
  "language_info": {
   "codemirror_mode": {
    "name": "ipython",
    "version": 3
   },
   "file_extension": ".py",
   "mimetype": "text/x-python",
   "name": "python",
   "nbconvert_exporter": "python",
   "pygments_lexer": "ipython3",
   "version": "3.7.2"
  },
  "toc": {
   "base_numbering": 1,
   "nav_menu": {},
   "number_sections": true,
   "sideBar": true,
   "skip_h1_title": false,
   "title_cell": "Table of Contents",
   "title_sidebar": "Contents",
   "toc_cell": false,
   "toc_position": {},
   "toc_section_display": true,
   "toc_window_display": false
  }
 },
 "nbformat": 4,
 "nbformat_minor": 4
}
