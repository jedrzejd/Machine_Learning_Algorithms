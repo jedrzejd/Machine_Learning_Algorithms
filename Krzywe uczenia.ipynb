{
 "cells": [
  {
   "cell_type": "code",
   "execution_count": 80,
   "metadata": {
    "ExecuteTime": {
     "end_time": "2021-06-03T15:39:12.893531Z",
     "start_time": "2021-06-03T15:39:12.889624Z"
    }
   },
   "outputs": [],
   "source": [
    "import numpy as np\n",
    "import pandas as pd\n",
    "\n",
    "#Bibloteki do wizualizacji\n",
    "import matplotlib.pyplot as plt\n",
    "import seaborn as sns\n",
    "import matplotlib.animation as animation\n",
    "\n",
    "# Model regresji liniowej z bibloteki scikit-learn\n",
    "from sklearn.linear_model import LinearRegression\n",
    "from sklearn.preprocessing import PolynomialFeatures\n",
    "\n",
    "from sklearn.metrics import mean_squared_error as mse\n",
    "from sklearn.model_selection import train_test_split"
   ]
  },
  {
   "cell_type": "code",
   "execution_count": 81,
   "metadata": {
    "ExecuteTime": {
     "end_time": "2021-06-03T15:39:13.173326Z",
     "start_time": "2021-06-03T15:39:13.169189Z"
    }
   },
   "outputs": [],
   "source": [
    "def get_X():\n",
    "    tablica = np.random.rand(100, 1)\n",
    "    \n",
    "    return 6 * tablica - 3\n",
    "\n",
    "\n",
    "def get_y(X):\n",
    "    tablica = np.random.randn(100, 1)\n",
    "    \n",
    "    return 0.5 * X ** 2 + X + 2 + tablica"
   ]
  },
  {
   "cell_type": "code",
   "execution_count": 82,
   "metadata": {
    "ExecuteTime": {
     "end_time": "2021-06-03T15:39:13.367786Z",
     "start_time": "2021-06-03T15:39:13.364146Z"
    }
   },
   "outputs": [],
   "source": [
    "X = get_X()\n",
    "X = np.array(sorted(X))\n",
    "y = get_y(X)"
   ]
  },
  {
   "cell_type": "code",
   "execution_count": 83,
   "metadata": {
    "ExecuteTime": {
     "end_time": "2021-06-03T15:39:13.738826Z",
     "start_time": "2021-06-03T15:39:13.587352Z"
    }
   },
   "outputs": [
    {
     "data": {
      "image/png": "[encoded data removed]",
      "text/plain": [
       "<Figure size 576x360 with 1 Axes>"
      ]
     },
     "metadata": {
      "needs_background": "light"
     },
     "output_type": "display_data"
    }
   ],
   "source": [
    "plt.figure(figsize=(8, 5))\n",
    "plt.xlabel('x1')\n",
    "plt.ylabel('y')\n",
    "plt.plot(X, y, 'b.')\n",
    "plt.show()"
   ]
  },
  {
   "cell_type": "code",
   "execution_count": 96,
   "metadata": {
    "ExecuteTime": {
     "end_time": "2021-06-03T15:43:42.328934Z",
     "start_time": "2021-06-03T15:43:42.323347Z"
    }
   },
   "outputs": [],
   "source": [
    "def krzywe_uczenia(X, y, model):\n",
    "    X_train, X_test, y_train, y_test = train_test_split(X, y, test_size=0.2)\n",
    "    train_error, test_error = [], []\n",
    "    for m in range(1, len(X_train)):\n",
    "        model.fit(X_train[:m], y_train[:m])\n",
    "        y_train_predict = model.predict(X_train[:m])\n",
    "        y_test_predict = model.predict(X_test)\n",
    "        train_error.append(mse(y_train[:m], y_train_predict))\n",
    "        test_error.append(mse(y_test, y_test_predict))\n",
    "    plt.plot(np.sqrt(train_error), 'r-+', linewidth=2, label='train')\n",
    "    plt.plot(np.sqrt(test_error), 'b-', linewidth=3, label='test')"
   ]
  },
  {
   "cell_type": "code",
   "execution_count": 97,
   "metadata": {
    "ExecuteTime": {
     "end_time": "2021-06-03T15:43:43.794379Z",
     "start_time": "2021-06-03T15:43:43.572250Z"
    }
   },
   "outputs": [
    {
     "data": {
      "image/png": "[encoded data removed]",
      "text/plain": [
       "<Figure size 432x288 with 1 Axes>"
      ]
     },
     "metadata": {
      "needs_background": "light"
     },
     "output_type": "display_data"
    }
   ],
   "source": [
    "lin_reg = LinearRegression()\n",
    "krzywe_uczenia(X, y, lin_reg)"
   ]
  },
  {
   "cell_type": "code",
   "execution_count": null,
   "metadata": {},
   "outputs": [],
   "source": []
  }
 ],
 "metadata": {
  "hide_input": false,
  "kernelspec": {
   "display_name": "Python 3",
   "language": "python",
   "name": "python3"
  },
  "language_info": {
   "codemirror_mode": {
    "name": "ipython",
    "version": 3
   },
   "file_extension": ".py",
   "mimetype": "text/x-python",
   "name": "python",
   "nbconvert_exporter": "python",
   "pygments_lexer": "ipython3",
   "version": "3.7.2"
  },
  "toc": {
   "base_numbering": 1,
   "nav_menu": {},
   "number_sections": true,
   "sideBar": true,
   "skip_h1_title": false,
   "title_cell": "Table of Contents",
   "title_sidebar": "Contents",
   "toc_cell": false,
   "toc_position": {},
   "toc_section_display": true,
   "toc_window_display": false
  }
 },
 "nbformat": 4,
 "nbformat_minor": 4
}
